{
  "nbformat": 4,
  "nbformat_minor": 0,
  "metadata": {
    "colab": {
      "name": "DecisionTreesRegression.ipynb",
      "provenance": [],
      "collapsed_sections": [],
      "include_colab_link": true
    },
    "kernelspec": {
      "name": "python3",
      "display_name": "Python 3"
    },
    "accelerator": "GPU"
  },
  "cells": [
    {
      "cell_type": "markdown",
      "metadata": {
        "id": "view-in-github",
        "colab_type": "text"
      },
      "source": [
        "<a href=\"https://colab.research.google.com/github/abhranil-datascience/RegressionPOC/blob/master/DecisionTreesRegression.ipynb\" target=\"_parent\"><img src=\"https://colab.research.google.com/assets/colab-badge.svg\" alt=\"Open In Colab\"/></a>"
      ]
    },
    {
      "cell_type": "code",
      "metadata": {
        "id": "pLOH-fNrq0BX",
        "colab_type": "code",
        "outputId": "4f776526-c6b5-4b63-fbb1-c4a8b405030a",
        "colab": {
          "base_uri": "https://localhost:8080/",
          "height": 118
        }
      },
      "source": [
        "############################## Mount Drive ######################################## \n",
        "from google.colab import drive\n",
        "drive.mount('/content/gdrive')\n",
        "############################## Change Directory ###################################\n",
        "import os\n",
        "os.chdir('/content/gdrive/My Drive/MLandDLFullCourse/ML/Regression/DecisionTrees')\n",
        "########## Suppress Warnings ############\n",
        "import warnings\n",
        "warnings.filterwarnings('ignore')\n",
        "########### Import Dataset #############\n",
        "import pandas as pd\n",
        "dataset=pd.read_csv('Position_Salaries.csv')\n",
        "X=dataset.iloc[:,1:2].values\n",
        "Y=dataset.iloc[:,2].values"
      ],
      "execution_count": 0,
      "outputs": [
        {
          "output_type": "stream",
          "text": [
            "Go to this URL in a browser: https://accounts.google.com/o/oauth2/auth?client_id=947318989803-6bn6qk8qdgf4n4g3pfee6491hc0brc4i.apps.googleusercontent.com&redirect_uri=urn%3aietf%3awg%3aoauth%3a2.0%3aoob&response_type=code&scope=email%20https%3a%2f%2fwww.googleapis.com%2fauth%2fdocs.test%20https%3a%2f%2fwww.googleapis.com%2fauth%2fdrive%20https%3a%2f%2fwww.googleapis.com%2fauth%2fdrive.photos.readonly%20https%3a%2f%2fwww.googleapis.com%2fauth%2fpeopleapi.readonly\n",
            "\n",
            "Enter your authorization code:\n",
            "··········\n",
            "Mounted at /content/gdrive\n"
          ],
          "name": "stdout"
        }
      ]
    },
    {
      "cell_type": "code",
      "metadata": {
        "id": "ZAw6IUrMynAy",
        "colab_type": "code",
        "outputId": "797d965d-4996-48b2-a841-7eea26355d74",
        "colab": {
          "base_uri": "https://localhost:8080/",
          "height": 33
        }
      },
      "source": [
        "########### Feature Scaling ############\n",
        "from sklearn.preprocessing import StandardScaler\n",
        "XScaler=StandardScaler()\n",
        "YScaler=StandardScaler()\n",
        "XScaled=XScaler.fit_transform(X.reshape(-1,1))\n",
        "YScaled=YScaler.fit_transform(Y.reshape(-1,1))\n",
        "########## Decision Tree #############\n",
        "from sklearn.tree import DecisionTreeRegressor\n",
        "RegressorDT=DecisionTreeRegressor()\n",
        "RegressorDT.fit(XScaled,YScaled)\n",
        "YPred=YScaler.inverse_transform(RegressorDT.predict(XScaled))\n",
        "import sklearn.metrics as mt\n",
        "print(\"Goodness Of Fit: \"+str(mt.r2_score(Y,YPred)))"
      ],
      "execution_count": 0,
      "outputs": [
        {
          "output_type": "stream",
          "text": [
            "Goodness Of Fit: 1.0\n"
          ],
          "name": "stdout"
        }
      ]
    },
    {
      "cell_type": "code",
      "metadata": {
        "id": "YI_R_S0PGu6a",
        "colab_type": "code",
        "outputId": "3d291dab-25fa-499d-cfaf-22ba372e58c4",
        "colab": {
          "base_uri": "https://localhost:8080/",
          "height": 295
        }
      },
      "source": [
        "########## Draw Graph ###############\n",
        "import matplotlib.pyplot as plt\n",
        "plt.scatter(X,Y,c='red')\n",
        "import numpy as np\n",
        "XGrid=np.arange(min(XScaled),max(XScaled),0.01).reshape(-1,1)\n",
        "plt.plot(XScaler.inverse_transform(XGrid),YScaler.inverse_transform(RegressorDT.predict(XGrid)),c='blue')\n",
        "plt.xlabel('Experience')\n",
        "plt.ylabel('Salary')\n",
        "plt.title('Experience vs Salary')\n",
        "plt.show()"
      ],
      "execution_count": 0,
      "outputs": [
        {
          "output_type": "display_data",
          "data": {
            "image/png": "[encoded data removed]",
            "text/plain": [
              "<Figure size 432x288 with 1 Axes>"
            ]
          },
          "metadata": {
            "tags": []
          }
        }
      ]
    }
  ]
}