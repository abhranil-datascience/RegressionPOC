{
  "nbformat": 4,
  "nbformat_minor": 0,
  "metadata": {
    "colab": {
      "name": "PolynomialRegressionPOC.ipynb",
      "provenance": [],
      "collapsed_sections": [],
      "include_colab_link": true
    },
    "kernelspec": {
      "name": "python3",
      "display_name": "Python 3"
    },
    "accelerator": "GPU"
  },
  "cells": [
    {
      "cell_type": "markdown",
      "metadata": {
        "id": "view-in-github",
        "colab_type": "text"
      },
      "source": [
        "<a href=\"https://colab.research.google.com/github/abhranil-datascience/RegressionPOC/blob/master/PolynomialRegressionPOC.ipynb\" target=\"_parent\"><img src=\"https://colab.research.google.com/assets/colab-badge.svg\" alt=\"Open In Colab\"/></a>"
      ]
    },
    {
      "cell_type": "code",
      "metadata": {
        "id": "ho99CnzZRnCU",
        "colab_type": "code",
        "outputId": "ab42505d-2b4e-4237-844f-0595a8c191b3",
        "colab": {
          "base_uri": "https://localhost:8080/",
          "height": 118
        }
      },
      "source": [
        "############################## Mount Drive ######################################## \n",
        "from google.colab import drive\n",
        "drive.mount('/content/gdrive')\n",
        "############################## Change Directory ###################################\n",
        "import os\n",
        "os.chdir('/content/gdrive/My Drive/MLandDLFullCourse/ML/Regression/PolynomialRegression')\n",
        "########## Suppress Warnings ############\n",
        "import warnings\n",
        "warnings.filterwarnings('ignore')\n",
        "########### Import Dataset #############\n",
        "import pandas as pd\n",
        "dataset=pd.read_csv('Position_Salaries.csv')\n",
        "X=dataset.iloc[:,1:2].values\n",
        "Y=dataset.iloc[:,2].values"
      ],
      "execution_count": 0,
      "outputs": [
        {
          "output_type": "stream",
          "text": [
            "Go to this URL in a browser: https://accounts.google.com/o/oauth2/auth?client_id=947318989803-6bn6qk8qdgf4n4g3pfee6491hc0brc4i.apps.googleusercontent.com&redirect_uri=urn%3aietf%3awg%3aoauth%3a2.0%3aoob&response_type=code&scope=email%20https%3a%2f%2fwww.googleapis.com%2fauth%2fdocs.test%20https%3a%2f%2fwww.googleapis.com%2fauth%2fdrive%20https%3a%2f%2fwww.googleapis.com%2fauth%2fdrive.photos.readonly%20https%3a%2f%2fwww.googleapis.com%2fauth%2fpeopleapi.readonly\n",
            "\n",
            "Enter your authorization code:\n",
            "··········\n",
            "Mounted at /content/gdrive\n"
          ],
          "name": "stdout"
        }
      ]
    },
    {
      "cell_type": "code",
      "metadata": {
        "id": "6GJUuqz4V86w",
        "colab_type": "code",
        "outputId": "a168df72-e20f-4ed1-8d23-cfc447437290",
        "colab": {
          "base_uri": "https://localhost:8080/",
          "height": 33
        }
      },
      "source": [
        "########### Feature Scaling ############\n",
        "from sklearn.preprocessing import StandardScaler\n",
        "XScaler=StandardScaler()\n",
        "YScaler=StandardScaler()\n",
        "XScaled=XScaler.fit_transform(X.reshape(-1,1))\n",
        "YScaled=YScaler.fit_transform(Y.reshape(-1,1))\n",
        "########## Check If it's Linear or Non Linear Data ############\n",
        "from sklearn.svm import SVR\n",
        "parametersSVR=[{'kernel':['linear','poly','rbf','sigmoid'],\n",
        "               'degree':[2,3,4,5,6,7,8,9]}]\n",
        "from sklearn.model_selection import GridSearchCV\n",
        "RegressorSVR=SVR()\n",
        "GS=GridSearchCV(estimator=RegressorSVR,param_grid=parametersSVR,scoring='neg_mean_squared_error',cv=10)\n",
        "GS.fit(XScaled,YScaled)\n",
        "SVR_best_params=GS.best_params_#'kernel': 'rbf'\n",
        "SVR_best_params"
      ],
      "execution_count": 0,
      "outputs": [
        {
          "output_type": "execute_result",
          "data": {
            "text/plain": [
              "{'degree': 2, 'kernel': 'rbf'}"
            ]
          },
          "metadata": {
            "tags": []
          },
          "execution_count": 2
        }
      ]
    },
    {
      "cell_type": "code",
      "metadata": {
        "id": "KvVzYwWDE-fP",
        "colab_type": "code",
        "outputId": "46db7354-9697-4567-acd1-4f83d205c704",
        "colab": {
          "base_uri": "https://localhost:8080/",
          "height": 33
        }
      },
      "source": [
        "######### Polynomial Features #############\n",
        "from sklearn.preprocessing import PolynomialFeatures\n",
        "PF=PolynomialFeatures(degree=2)\n",
        "XPoly=PF.fit_transform(XScaled)\n",
        "######### Apply Polynomial Regression ############\n",
        "from sklearn.linear_model import LinearRegression\n",
        "import sklearn.metrics as mt\n",
        "RegressorLR=LinearRegression()\n",
        "RegressorLR.fit(XPoly,YScaled)\n",
        "YPred=YScaler.inverse_transform(RegressorLR.predict(XPoly))\n",
        "print(\"Goodness Of Fit: \"+str(mt.r2_score(Y,YPred)))#0.9162082221443943"
      ],
      "execution_count": 0,
      "outputs": [
        {
          "output_type": "stream",
          "text": [
            "Goodness Of Fit: 0.9162082221443943\n"
          ],
          "name": "stdout"
        }
      ]
    },
    {
      "cell_type": "code",
      "metadata": {
        "id": "8FaQYHAhFCsb",
        "colab_type": "code",
        "outputId": "c83c80b0-a538-440f-c6b5-efda622fca3c",
        "colab": {
          "base_uri": "https://localhost:8080/",
          "height": 311
        }
      },
      "source": [
        "######### Draw Graph #############\n",
        "import matplotlib.pyplot as plt\n",
        "plt.scatter(X,Y,c='red')\n",
        "plt.plot(X,YPred,c='blue')\n",
        "plt.xlabel('Experience')\n",
        "plt.ylabel('Salary')\n",
        "plt.title('Experience vs Salary')"
      ],
      "execution_count": 0,
      "outputs": [
        {
          "output_type": "execute_result",
          "data": {
            "text/plain": [
              "Text(0.5, 1.0, 'Experience vs Salary')"
            ]
          },
          "metadata": {
            "tags": []
          },
          "execution_count": 4
        },
        {
          "output_type": "display_data",
          "data": {
            "image/png": "[encoded data removed]",
            "text/plain": [
              "<Figure size 432x288 with 1 Axes>"
            ]
          },
          "metadata": {
            "tags": []
          }
        }
      ]
    }
  ]
}