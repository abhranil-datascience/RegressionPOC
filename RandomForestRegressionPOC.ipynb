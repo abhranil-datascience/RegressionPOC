{
  "nbformat": 4,
  "nbformat_minor": 0,
  "metadata": {
    "colab": {
      "name": "RandomForestRegressionPOC.ipynb",
      "provenance": [],
      "collapsed_sections": [],
      "include_colab_link": true
    },
    "kernelspec": {
      "name": "python3",
      "display_name": "Python 3"
    },
    "accelerator": "GPU"
  },
  "cells": [
    {
      "cell_type": "markdown",
      "metadata": {
        "id": "view-in-github",
        "colab_type": "text"
      },
      "source": [
        "<a href=\"https://colab.research.google.com/github/abhranil-datascience/RegressionPOC/blob/master/RandomForestRegressionPOC.ipynb\" target=\"_parent\"><img src=\"https://colab.research.google.com/assets/colab-badge.svg\" alt=\"Open In Colab\"/></a>"
      ]
    },
    {
      "cell_type": "code",
      "metadata": {
        "id": "TXN3hFXRz3ff",
        "colab_type": "code",
        "outputId": "3608e6b0-9e9d-4f66-8225-5962eb8191dc",
        "colab": {
          "base_uri": "https://localhost:8080/",
          "height": 118
        }
      },
      "source": [
        "############################## Mount Drive ######################################## \n",
        "from google.colab import drive\n",
        "drive.mount('/content/gdrive')\n",
        "############################## Change Directory ###################################\n",
        "import os\n",
        "os.chdir('/content/gdrive/My Drive/MLandDLFullCourse/ML/Regression/RandomForest')\n",
        "########## Suppress Warnings ############\n",
        "import warnings\n",
        "warnings.filterwarnings('ignore')\n",
        "########### Import Dataset #############\n",
        "import pandas as pd\n",
        "dataset=pd.read_csv('Position_Salaries.csv')\n",
        "X=dataset.iloc[:,1:2].values\n",
        "Y=dataset.iloc[:,2].values\n",
        "########### Feature Scaling ############\n",
        "from sklearn.preprocessing import StandardScaler\n",
        "XScaler=StandardScaler()\n",
        "YScaler=StandardScaler()\n",
        "XScaled=XScaler.fit_transform(X.reshape(-1,1))\n",
        "YScaled=YScaler.fit_transform(Y.reshape(-1,1))"
      ],
      "execution_count": 0,
      "outputs": [
        {
          "output_type": "stream",
          "text": [
            "Go to this URL in a browser: https://accounts.google.com/o/oauth2/auth?client_id=947318989803-6bn6qk8qdgf4n4g3pfee6491hc0brc4i.apps.googleusercontent.com&redirect_uri=urn%3aietf%3awg%3aoauth%3a2.0%3aoob&response_type=code&scope=email%20https%3a%2f%2fwww.googleapis.com%2fauth%2fdocs.test%20https%3a%2f%2fwww.googleapis.com%2fauth%2fdrive%20https%3a%2f%2fwww.googleapis.com%2fauth%2fdrive.photos.readonly%20https%3a%2f%2fwww.googleapis.com%2fauth%2fpeopleapi.readonly\n",
            "\n",
            "Enter your authorization code:\n",
            "··········\n",
            "Mounted at /content/gdrive\n"
          ],
          "name": "stdout"
        }
      ]
    },
    {
      "cell_type": "code",
      "metadata": {
        "id": "cT7gZf591HlY",
        "colab_type": "code",
        "outputId": "16288ce9-3ad6-4da8-c720-327fa3aaf849",
        "colab": {
          "base_uri": "https://localhost:8080/",
          "height": 33
        }
      },
      "source": [
        "########### Random Forest ##############\n",
        "from sklearn.ensemble import RandomForestRegressor\n",
        "RegressorRF=RandomForestRegressor(random_state=42)\n",
        "parametersRF=[{'n_estimators':[5,6,7,8,9,10,11,12,13,14,15]}]\n",
        "from sklearn.model_selection import GridSearchCV\n",
        "GS=GridSearchCV(estimator=RegressorRF,param_grid=parametersRF,scoring='neg_mean_squared_error',cv=10)\n",
        "GS.fit(XScaled,YScaled)\n",
        "best_params_RF=GS.best_params_#'n_estimators': 6\n",
        "best_params_RF"
      ],
      "execution_count": 0,
      "outputs": [
        {
          "output_type": "execute_result",
          "data": {
            "text/plain": [
              "{'n_estimators': 6}"
            ]
          },
          "metadata": {
            "tags": []
          },
          "execution_count": 2
        }
      ]
    },
    {
      "cell_type": "code",
      "metadata": {
        "id": "pZa-Wjf0HsHZ",
        "colab_type": "code",
        "outputId": "5784eb36-b24b-4e2d-993b-e91a67b39573",
        "colab": {
          "base_uri": "https://localhost:8080/",
          "height": 311
        }
      },
      "source": [
        "Regressor=RandomForestRegressor(n_estimators=6,random_state=42)\n",
        "Regressor.fit(XScaled,YScaled)\n",
        "import sklearn.metrics as mt\n",
        "print('Goodness Of Fit: '+str(mt.r2_score(Y,YScaler.inverse_transform(Regressor.predict(XScaled)))))#0.9605617180830494\n",
        "########## Draw Graph ###############\n",
        "import matplotlib.pyplot as plt\n",
        "plt.scatter(X,Y,c='red')\n",
        "import numpy as np\n",
        "XGrid=np.arange(min(XScaled),max(XScaled),0.01).reshape(-1,1)\n",
        "plt.plot(XScaler.inverse_transform(XGrid),YScaler.inverse_transform(Regressor.predict(XGrid)),c='blue')\n",
        "plt.xlabel('Experience')\n",
        "plt.ylabel('Salary')\n",
        "plt.title('Experience vs Salary')\n",
        "plt.show()"
      ],
      "execution_count": 0,
      "outputs": [
        {
          "output_type": "stream",
          "text": [
            "Goodness Of Fit: 0.9605617180830494\n"
          ],
          "name": "stdout"
        },
        {
          "output_type": "display_data",
          "data": {
            "image/png": "[encoded data removed]",
            "text/plain": [
              "<Figure size 432x288 with 1 Axes>"
            ]
          },
          "metadata": {
            "tags": []
          }
        }
      ]
    }
  ]
}