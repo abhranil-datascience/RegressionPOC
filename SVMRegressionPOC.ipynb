{
  "nbformat": 4,
  "nbformat_minor": 0,
  "metadata": {
    "colab": {
      "name": "SVMRegressionPOC.ipynb",
      "provenance": [],
      "collapsed_sections": [],
      "include_colab_link": true
    },
    "kernelspec": {
      "name": "python3",
      "display_name": "Python 3"
    },
    "accelerator": "GPU"
  },
  "cells": [
    {
      "cell_type": "markdown",
      "metadata": {
        "id": "view-in-github",
        "colab_type": "text"
      },
      "source": [
        "<a href=\"https://colab.research.google.com/github/abhranil-datascience/RegressionPOC/blob/master/SVMRegressionPOC.ipynb\" target=\"_parent\"><img src=\"https://colab.research.google.com/assets/colab-badge.svg\" alt=\"Open In Colab\"/></a>"
      ]
    },
    {
      "cell_type": "code",
      "metadata": {
        "id": "SZwrASzHfY1Q",
        "colab_type": "code",
        "outputId": "b1676309-c574-44a6-d1ff-7a44662af110",
        "colab": {
          "base_uri": "https://localhost:8080/",
          "height": 33
        }
      },
      "source": [
        "############################## Mount Drive ######################################## \n",
        "from google.colab import drive\n",
        "drive.mount('/content/gdrive')\n",
        "############################## Change Directory ###################################\n",
        "import os\n",
        "os.chdir('/content/gdrive/My Drive/MLandDLFullCourse/ML/Regression/SupportVectorMachine')\n",
        "########## Suppress Warnings ############\n",
        "import warnings\n",
        "warnings.filterwarnings('ignore')\n",
        "########### Import Dataset #############\n",
        "import pandas as pd\n",
        "dataset=pd.read_csv('Position_Salaries.csv')\n",
        "X=dataset.iloc[:,1:2].values\n",
        "Y=dataset.iloc[:,2].values"
      ],
      "execution_count": 0,
      "outputs": [
        {
          "output_type": "stream",
          "text": [
            "Mounted at /content/gdrive\n"
          ],
          "name": "stdout"
        }
      ]
    },
    {
      "cell_type": "code",
      "metadata": {
        "id": "xHX8wbUFik6h",
        "colab_type": "code",
        "outputId": "81763c10-d80c-41fb-d192-f4589ba2e699",
        "colab": {
          "base_uri": "https://localhost:8080/",
          "height": 33
        }
      },
      "source": [
        "########### Feature Scaling ############\n",
        "from sklearn.preprocessing import StandardScaler\n",
        "XScaler=StandardScaler()\n",
        "YScaler=StandardScaler()\n",
        "XScaled=XScaler.fit_transform(X.reshape(-1,1))\n",
        "YScaled=YScaler.fit_transform(Y.reshape(-1,1))\n",
        "########### Apply GridSearch to know hyperparameters #############\n",
        "from sklearn.svm import SVR\n",
        "RegressorSVR=SVR()\n",
        "parametersSVR=[{'kernel':['linear','poly','rbf','sigmoid'],\n",
        "               'degree':[2,3,4,5]}]\n",
        "from sklearn.model_selection import GridSearchCV\n",
        "GS=GridSearchCV(estimator=RegressorSVR,param_grid=parametersSVR,scoring='neg_mean_squared_error',cv=10)\n",
        "GS.fit(X,Y)\n",
        "best_params_svr=GS.best_params_#'degree': 5, 'kernel': 'poly'\n",
        "best_params_svr"
      ],
      "execution_count": 0,
      "outputs": [
        {
          "output_type": "execute_result",
          "data": {
            "text/plain": [
              "{'degree': 5, 'kernel': 'poly'}"
            ]
          },
          "metadata": {
            "tags": []
          },
          "execution_count": 4
        }
      ]
    },
    {
      "cell_type": "code",
      "metadata": {
        "id": "legtXtF3GA-4",
        "colab_type": "code",
        "outputId": "db044b14-60bd-47fa-c57e-9a4f6d1a03a9",
        "colab": {
          "base_uri": "https://localhost:8080/",
          "height": 311
        }
      },
      "source": [
        "######## Create Regressor And Predict ###########\n",
        "Reg=SVR(kernel='poly',degree=5)\n",
        "from sklearn.preprocessing import PolynomialFeatures\n",
        "PF=PolynomialFeatures(degree=5)\n",
        "XPoly=PF.fit_transform(XScaled)\n",
        "Reg.fit(XPoly,YScaled)\n",
        "YPred=YScaler.inverse_transform(Reg.predict(XPoly))\n",
        "import sklearn.metrics as mt\n",
        "print(\"Goodness of Fit: \"+str(mt.r2_score(Y,YPred)))#0.9540437383321698\n",
        "####### Draw Graph ##########\n",
        "import matplotlib.pyplot as plt\n",
        "plt.scatter(X,Y,c='red')\n",
        "plt.plot(X,YPred,c='blue')\n",
        "plt.xlabel('Experience')\n",
        "plt.ylabel('Salary')\n",
        "plt.title('Experience vs Salary')\n",
        "plt.show()"
      ],
      "execution_count": 0,
      "outputs": [
        {
          "output_type": "stream",
          "text": [
            "Goodness of Fit: 0.9540437383321698\n"
          ],
          "name": "stdout"
        },
        {
          "output_type": "display_data",
          "data": {
            "image/png": "[encoded data removed]",
            "text/plain": [
              "<Figure size 432x288 with 1 Axes>"
            ]
          },
          "metadata": {
            "tags": []
          }
        }
      ]
    }
  ]
}