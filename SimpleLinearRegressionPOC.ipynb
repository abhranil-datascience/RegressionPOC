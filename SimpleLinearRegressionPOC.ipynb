{
  "nbformat": 4,
  "nbformat_minor": 0,
  "metadata": {
    "colab": {
      "name": "SimpleLinearRegressionPOC.ipynb",
      "provenance": [],
      "collapsed_sections": [],
      "include_colab_link": true
    },
    "kernelspec": {
      "name": "python3",
      "display_name": "Python 3"
    },
    "accelerator": "GPU"
  },
  "cells": [
    {
      "cell_type": "markdown",
      "metadata": {
        "id": "view-in-github",
        "colab_type": "text"
      },
      "source": [
        "<a href=\"https://colab.research.google.com/github/abhranil-datascience/RegressionPOC/blob/master/SimpleLinearRegressionPOC.ipynb\" target=\"_parent\"><img src=\"https://colab.research.google.com/assets/colab-badge.svg\" alt=\"Open In Colab\"/></a>"
      ]
    },
    {
      "cell_type": "code",
      "metadata": {
        "id": "x7ZQDzfubxsR",
        "colab_type": "code",
        "outputId": "bcd3f405-803b-4bbe-8abd-3817afce49dd",
        "colab": {
          "base_uri": "https://localhost:8080/",
          "height": 118
        }
      },
      "source": [
        "############################## Mount Drive ######################################## \n",
        "from google.colab import drive\n",
        "drive.mount('/content/gdrive')\n",
        "############################## Change Directory ###################################\n",
        "import os\n",
        "os.chdir('/content/gdrive/My Drive/MLandDLFullCourse/ML/Regression/SimpleLinearRegression')\n",
        "########## Suppress Warnings ############\n",
        "import warnings\n",
        "warnings.filterwarnings('ignore')"
      ],
      "execution_count": 0,
      "outputs": [
        {
          "output_type": "stream",
          "text": [
            "Go to this URL in a browser: https://accounts.google.com/o/oauth2/auth?client_id=947318989803-6bn6qk8qdgf4n4g3pfee6491hc0brc4i.apps.googleusercontent.com&redirect_uri=urn%3aietf%3awg%3aoauth%3a2.0%3aoob&response_type=code&scope=email%20https%3a%2f%2fwww.googleapis.com%2fauth%2fdocs.test%20https%3a%2f%2fwww.googleapis.com%2fauth%2fdrive%20https%3a%2f%2fwww.googleapis.com%2fauth%2fdrive.photos.readonly%20https%3a%2f%2fwww.googleapis.com%2fauth%2fpeopleapi.readonly\n",
            "\n",
            "Enter your authorization code:\n",
            "··········\n",
            "Mounted at /content/gdrive\n"
          ],
          "name": "stdout"
        }
      ]
    },
    {
      "cell_type": "code",
      "metadata": {
        "id": "pc3ps3KmA35Y",
        "colab_type": "code",
        "colab": {}
      },
      "source": [
        "########### Read Data ##############\n",
        "import pandas as pd\n",
        "dataset=pd.read_csv('Salary_Data.csv')\n",
        "Experience=dataset.iloc[:,0:1].values\n",
        "Salary=dataset.iloc[:,1].values"
      ],
      "execution_count": 0,
      "outputs": []
    },
    {
      "cell_type": "code",
      "metadata": {
        "id": "1dAjWbYnA9j_",
        "colab_type": "code",
        "colab": {}
      },
      "source": [
        "########### Scale Data #############\n",
        "from sklearn.preprocessing import StandardScaler\n",
        "sc_Experience=StandardScaler()\n",
        "sc_Salary=StandardScaler()\n",
        "ExperienceScaled=sc_Experience.fit_transform(Experience)\n",
        "SalaryScaled=sc_Salary.fit_transform(Salary.reshape(-1,1))\n",
        "########## Create Test Train data #############\n",
        "from sklearn.model_selection import train_test_split\n",
        "ExperienceTrain,ExperienceTest,SalaryTrain,SalaryTest=train_test_split(ExperienceScaled,SalaryScaled,test_size=0.1,random_state=42)\n",
        "########## Check If it's Linear or Non Linear data #############\n",
        "from sklearn.svm import SVR\n",
        "svr=SVR()\n",
        "from sklearn.model_selection import GridSearchCV\n",
        "parameters=[{'kernel':['linear','rbf','poly','sigmoid']}]\n",
        "GS=GridSearchCV(estimator=svr,param_grid=parameters,scoring='neg_mean_squared_error',cv=10)\n",
        "GS.fit(ExperienceTrain,SalaryTrain)\n",
        "best_params=GS.best_params_#Linear"
      ],
      "execution_count": 0,
      "outputs": []
    },
    {
      "cell_type": "code",
      "metadata": {
        "id": "8sRFQvfGBCh4",
        "colab_type": "code",
        "outputId": "5909f8f9-8860-40da-e8a7-f229b7728564",
        "colab": {
          "base_uri": "https://localhost:8080/",
          "height": 33
        }
      },
      "source": [
        "######### Create Regressor and Check R2 ##############\n",
        "from sklearn.linear_model import LinearRegression\n",
        "LR=LinearRegression()\n",
        "params=[{'fit_intercept':[True,False],\n",
        "        'normalize':[True,False]}]\n",
        "RegressionGS=GridSearchCV(estimator=LR,param_grid=params,scoring='neg_mean_squared_error',cv=10)\n",
        "RegressionGS.fit(ExperienceTrain,SalaryTrain)\n",
        "best_LR_params=RegressionGS.best_estimator_#fit_intercept=False,normalize=True\n",
        "LR=LinearRegression(fit_intercept=False,normalize=True)\n",
        "from sklearn.model_selection import KFold\n",
        "from sklearn import metrics as mt\n",
        "import statistics as st\n",
        "r2=[]\n",
        "for count in range(0,100):\n",
        "  kfold=KFold(n_splits=3,shuffle=True)\n",
        "  for train_index,test_index in kfold.split(ExperienceTrain):\n",
        "    ExperienceKFoldtrain,SalaryKFoldtrain=ExperienceTrain[train_index],SalaryTrain[train_index]\n",
        "    ExperienceKFoldVal,SalaryKFoldVal=ExperienceTrain[test_index],SalaryTrain[test_index]\n",
        "    LR.fit(ExperienceTrain,SalaryTrain)\n",
        "    SalaryPred=LR.predict(ExperienceKFoldVal)\n",
        "    r2.append(mt.r2_score(SalaryKFoldVal,SalaryPred))\n",
        "avg_r2=st.mean(r2)\n",
        "print(\"Goodness Of Fit: \"+str(avg_r2))#0.947181589183795"
      ],
      "execution_count": 0,
      "outputs": [
        {
          "output_type": "stream",
          "text": [
            "Goodness Of Fit: 0.9434211535385921\n"
          ],
          "name": "stdout"
        }
      ]
    },
    {
      "cell_type": "code",
      "metadata": {
        "id": "sLtd9hPNBGxh",
        "colab_type": "code",
        "colab": {}
      },
      "source": [
        "######### Apply Linear Regression ################\n",
        "LR.fit(ExperienceTrain,SalaryTrain)\n",
        "PredictedSalary=sc_Salary.inverse_transform(LR.predict(ExperienceTest))"
      ],
      "execution_count": 0,
      "outputs": []
    },
    {
      "cell_type": "code",
      "metadata": {
        "id": "yLYePxwOBJgp",
        "colab_type": "code",
        "outputId": "2dd28f46-2ac9-48dd-ad19-0ef7730f088f",
        "colab": {
          "base_uri": "https://localhost:8080/",
          "height": 295
        }
      },
      "source": [
        "######### Plot Graph #############\n",
        "import matplotlib.pyplot as plt\n",
        "plt.scatter(sc_Experience.inverse_transform(ExperienceTest),sc_Salary.inverse_transform(SalaryTest),c='red')\n",
        "plt.plot(sc_Experience.inverse_transform(ExperienceTest),PredictedSalary,c='blue')\n",
        "plt.xlabel('Experience')\n",
        "plt.ylabel('Salary')\n",
        "plt.title('Experience vs Salary')\n",
        "plt.show()"
      ],
      "execution_count": 0,
      "outputs": [
        {
          "output_type": "display_data",
          "data": {
            "image/png": "[encoded data removed]",
            "text/plain": [
              "<Figure size 432x288 with 1 Axes>"
            ]
          },
          "metadata": {
            "tags": []
          }
        }
      ]
    }
  ]
}