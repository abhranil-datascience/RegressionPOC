{
  "nbformat": 4,
  "nbformat_minor": 0,
  "metadata": {
    "colab": {
      "name": "MultivariateLinearRegressionPOC.ipynb",
      "provenance": [],
      "collapsed_sections": [],
      "include_colab_link": true
    },
    "kernelspec": {
      "name": "python3",
      "display_name": "Python 3"
    },
    "accelerator": "GPU"
  },
  "cells": [
    {
      "cell_type": "markdown",
      "metadata": {
        "id": "view-in-github",
        "colab_type": "text"
      },
      "source": [
        "<a href=\"https://colab.research.google.com/github/abhranil-datascience/RegressionPOC/blob/master/MultivariateLinearRegressionPOC.ipynb\" target=\"_parent\"><img src=\"https://colab.research.google.com/assets/colab-badge.svg\" alt=\"Open In Colab\"/></a>"
      ]
    },
    {
      "cell_type": "code",
      "metadata": {
        "id": "oWptw0uF2LHV",
        "colab_type": "code",
        "outputId": "121cd143-88e1-4d25-ffbc-4405d8333b3e",
        "colab": {
          "base_uri": "https://localhost:8080/",
          "height": 118
        }
      },
      "source": [
        "############################## Mount Drive ######################################## \n",
        "from google.colab import drive\n",
        "drive.mount('/content/gdrive')\n",
        "############################## Change Directory ###################################\n",
        "import os\n",
        "os.chdir('/content/gdrive/My Drive/MLandDLFullCourse/ML/Regression/MultivariateLinearRegression')\n",
        "########## Suppress Warnings ############\n",
        "import warnings\n",
        "warnings.filterwarnings('ignore')"
      ],
      "execution_count": 0,
      "outputs": [
        {
          "output_type": "stream",
          "text": [
            "Go to this URL in a browser: https://accounts.google.com/o/oauth2/auth?client_id=947318989803-6bn6qk8qdgf4n4g3pfee6491hc0brc4i.apps.googleusercontent.com&redirect_uri=urn%3aietf%3awg%3aoauth%3a2.0%3aoob&response_type=code&scope=email%20https%3a%2f%2fwww.googleapis.com%2fauth%2fdocs.test%20https%3a%2f%2fwww.googleapis.com%2fauth%2fdrive%20https%3a%2f%2fwww.googleapis.com%2fauth%2fdrive.photos.readonly%20https%3a%2f%2fwww.googleapis.com%2fauth%2fpeopleapi.readonly\n",
            "\n",
            "Enter your authorization code:\n",
            "··········\n",
            "Mounted at /content/gdrive\n"
          ],
          "name": "stdout"
        }
      ]
    },
    {
      "cell_type": "code",
      "metadata": {
        "id": "MZAkVaga3GlU",
        "colab_type": "code",
        "outputId": "d0f6b506-ca31-4d0f-e361-a87c5dedc15b",
        "colab": {
          "base_uri": "https://localhost:8080/",
          "height": 70
        }
      },
      "source": [
        "########## Import Dataset ###############\n",
        "import pandas as pd\n",
        "dataset=pd.read_csv('50_Startups.csv')\n",
        "X=dataset.iloc[:,0:4].values\n",
        "Y=dataset.iloc[:,4].values\n",
        "########## Apply One hot encoding to State ##############\n",
        "XEncoded=X\n",
        "from sklearn.preprocessing import LabelEncoder\n",
        "le=LabelEncoder()\n",
        "XEncoded[:,3]=le.fit_transform(XEncoded[:,3])\n",
        "from sklearn.preprocessing import OneHotEncoder\n",
        "ohe=OneHotEncoder(categorical_features = [3])\n",
        "XEncoded=ohe.fit_transform(XEncoded).toarray()\n",
        "XEncoded=XEncoded[:,1:]\n",
        "########## Feature Scaling ###############\n",
        "from sklearn.preprocessing import StandardScaler\n",
        "sc_X=StandardScaler()\n",
        "sc_Y=StandardScaler()\n",
        "XScaled=sc_X.fit_transform(XEncoded)\n",
        "YScaled=sc_Y.fit_transform(Y.reshape(-1,1))\n",
        "######## Split Test Train data ###########\n",
        "from sklearn.model_selection import train_test_split\n",
        "XTrain,XTest,YTrain,YTest=train_test_split(XScaled,YScaled,test_size=0.1,random_state=42)"
      ],
      "execution_count": 0,
      "outputs": [
        {
          "output_type": "stream",
          "text": [
            "/usr/local/lib/python3.6/dist-packages/sklearn/preprocessing/_encoders.py:451: DeprecationWarning: The 'categorical_features' keyword is deprecated in version 0.20 and will be removed in 0.22. You can use the ColumnTransformer instead.\n",
            "  \"use the ColumnTransformer instead.\", DeprecationWarning)\n"
          ],
          "name": "stderr"
        }
      ]
    },
    {
      "cell_type": "code",
      "metadata": {
        "id": "TXDi1F2aKjOr",
        "colab_type": "code",
        "outputId": "1d18ae43-aacc-4c50-d3b2-fceabfae3b24",
        "colab": {
          "base_uri": "https://localhost:8080/",
          "height": 400
        }
      },
      "source": [
        "######## Check P_Value ###############\n",
        "import statsmodels.api as sm\n",
        "import numpy as np\n",
        "XTrainPVal=np.append(np.ones([XTrain.shape[0],1]),values=XTrain,axis=1)\n",
        "XTestPVal=np.append(np.ones([XTest.shape[0],1]),values=XTest,axis=1)\n",
        "#XTrainPValue=XTrainPVal[:,[0,1,2,3,4,5]]\n",
        "#XTestPValue=XTestPVal[:,[0,1,2,3,4,5]]\n",
        "#regressorOLS=sm.OLS(exog=XTrainPValue,endog=YTrain).fit()\n",
        "#regressorOLS.summary()#Adj. R-squared:\t0.948\n",
        "#XTrainPValue=XTrainPVal[:,[0,2,3,4,5]]\n",
        "#XTestPValue=XTestPVal[:,[0,2,3,4,5]]\n",
        "#regressorOLS=sm.OLS(exog=XTrainPValue,endog=YTrain).fit()\n",
        "#regressorOLS.summary()#Adj. R-squared:\t0.949\n",
        "#XTrainPValue=XTrainPVal[:,[0,3,4,5]]\n",
        "#XTestPValue=XTestPVal[:,[0,3,4,5]]\n",
        "#regressorOLS=sm.OLS(exog=XTrainPValue,endog=YTrain).fit()\n",
        "#regressorOLS.summary()#Adj. R-squared:\t0.950\n",
        "XTrainPValue=XTrainPVal[:,[0,3,5]]\n",
        "XTestPValue=XTestPVal[:,[0,3,5]]\n",
        "regressorOLS=sm.OLS(exog=XTrainPValue,endog=YTrain).fit()\n",
        "regressorOLS.summary()#Adj. R-squared:\t0.951\n",
        "XTrainPValue=XTrainPValue[:,1:3]\n",
        "XTestPValue=XTestPValue[:,1:3]"
      ],
      "execution_count": 0,
      "outputs": [
        {
          "output_type": "execute_result",
          "data": {
            "text/html": [
              "<table class=\"simpletable\">\n",
              "<caption>OLS Regression Results</caption>\n",
              "<tr>\n",
              "  <th>Dep. Variable:</th>            <td>y</td>        <th>  R-squared:         </th> <td>   0.953</td>\n",
              "</tr>\n",
              "<tr>\n",
              "  <th>Model:</th>                   <td>OLS</td>       <th>  Adj. R-squared:    </th> <td>   0.951</td>\n",
              "</tr>\n",
              "<tr>\n",
              "  <th>Method:</th>             <td>Least Squares</td>  <th>  F-statistic:       </th> <td>   426.3</td>\n",
              "</tr>\n",
              "<tr>\n",
              "  <th>Date:</th>             <td>Mon, 25 Nov 2019</td> <th>  Prob (F-statistic):</th> <td>1.27e-28</td>\n",
              "</tr>\n",
              "<tr>\n",
              "  <th>Time:</th>                 <td>10:12:45</td>     <th>  Log-Likelihood:    </th> <td>  3.7770</td>\n",
              "</tr>\n",
              "<tr>\n",
              "  <th>No. Observations:</th>      <td>    45</td>      <th>  AIC:               </th> <td>  -1.554</td>\n",
              "</tr>\n",
              "<tr>\n",
              "  <th>Df Residuals:</th>          <td>    42</td>      <th>  BIC:               </th> <td>   3.866</td>\n",
              "</tr>\n",
              "<tr>\n",
              "  <th>Df Model:</th>              <td>     2</td>      <th>                     </th>     <td> </td>   \n",
              "</tr>\n",
              "<tr>\n",
              "  <th>Covariance Type:</th>      <td>nonrobust</td>    <th>                     </th>     <td> </td>   \n",
              "</tr>\n",
              "</table>\n",
              "<table class=\"simpletable\">\n",
              "<tr>\n",
              "    <td></td>       <th>coef</th>     <th>std err</th>      <th>t</th>      <th>P>|t|</th>  <th>[0.025</th>    <th>0.975]</th>  \n",
              "</tr>\n",
              "<tr>\n",
              "  <th>const</th> <td>   -0.0103</td> <td>    0.034</td> <td>   -0.301</td> <td> 0.765</td> <td>   -0.080</td> <td>    0.059</td>\n",
              "</tr>\n",
              "<tr>\n",
              "  <th>x1</th>    <td>    0.9116</td> <td>    0.048</td> <td>   19.024</td> <td> 0.000</td> <td>    0.815</td> <td>    1.008</td>\n",
              "</tr>\n",
              "<tr>\n",
              "  <th>x2</th>    <td>    0.1050</td> <td>    0.048</td> <td>    2.169</td> <td> 0.036</td> <td>    0.007</td> <td>    0.203</td>\n",
              "</tr>\n",
              "</table>\n",
              "<table class=\"simpletable\">\n",
              "<tr>\n",
              "  <th>Omnibus:</th>       <td>13.304</td> <th>  Durbin-Watson:     </th> <td>   1.745</td>\n",
              "</tr>\n",
              "<tr>\n",
              "  <th>Prob(Omnibus):</th> <td> 0.001</td> <th>  Jarque-Bera (JB):  </th> <td>  16.275</td>\n",
              "</tr>\n",
              "<tr>\n",
              "  <th>Skew:</th>          <td>-0.982</td> <th>  Prob(JB):          </th> <td>0.000292</td>\n",
              "</tr>\n",
              "<tr>\n",
              "  <th>Kurtosis:</th>      <td> 5.195</td> <th>  Cond. No.          </th> <td>    2.43</td>\n",
              "</tr>\n",
              "</table><br/><br/>Warnings:<br/>[1] Standard Errors assume that the covariance matrix of the errors is correctly specified."
            ],
            "text/plain": [
              "<class 'statsmodels.iolib.summary.Summary'>\n",
              "\"\"\"\n",
              "                            OLS Regression Results                            \n",
              "==============================================================================\n",
              "Dep. Variable:                      y   R-squared:                       0.953\n",
              "Model:                            OLS   Adj. R-squared:                  0.951\n",
              "Method:                 Least Squares   F-statistic:                     426.3\n",
              "Date:                Mon, 25 Nov 2019   Prob (F-statistic):           1.27e-28\n",
              "Time:                        10:12:45   Log-Likelihood:                 3.7770\n",
              "No. Observations:                  45   AIC:                            -1.554\n",
              "Df Residuals:                      42   BIC:                             3.866\n",
              "Df Model:                           2                                         \n",
              "Covariance Type:            nonrobust                                         \n",
              "==============================================================================\n",
              "                 coef    std err          t      P>|t|      [0.025      0.975]\n",
              "------------------------------------------------------------------------------\n",
              "const         -0.0103      0.034     -0.301      0.765      -0.080       0.059\n",
              "x1             0.9116      0.048     19.024      0.000       0.815       1.008\n",
              "x2             0.1050      0.048      2.169      0.036       0.007       0.203\n",
              "==============================================================================\n",
              "Omnibus:                       13.304   Durbin-Watson:                   1.745\n",
              "Prob(Omnibus):                  0.001   Jarque-Bera (JB):               16.275\n",
              "Skew:                          -0.982   Prob(JB):                     0.000292\n",
              "Kurtosis:                       5.195   Cond. No.                         2.43\n",
              "==============================================================================\n",
              "\n",
              "Warnings:\n",
              "[1] Standard Errors assume that the covariance matrix of the errors is correctly specified.\n",
              "\"\"\""
            ]
          },
          "metadata": {
            "tags": []
          },
          "execution_count": 7
        }
      ]
    },
    {
      "cell_type": "code",
      "metadata": {
        "id": "AeZZsIegClAC",
        "colab_type": "code",
        "outputId": "5f4d4d0e-b014-452b-b868-e43953528dcf",
        "colab": {
          "base_uri": "https://localhost:8080/",
          "height": 33
        }
      },
      "source": [
        "######## Check VIF ##############\n",
        "from statsmodels.stats.outliers_influence import variance_inflation_factor\n",
        "VIF=[0]*XTrainPValue.shape[1]\n",
        "for col in range(0,XTrainPValue.shape[1]):\n",
        "  VIF[col]=VIF[col]+variance_inflation_factor(exog=XTrainPValue,exog_idx=col)\n",
        "## All values are less than 10 so no need to reduce column\n",
        "XTrainViffed=XTrainPValue\n",
        "XTestViffed=XTestPValue\n",
        "VIF"
      ],
      "execution_count": 0,
      "outputs": [
        {
          "output_type": "execute_result",
          "data": {
            "text/plain": [
              "[2.0085577606815797, 2.0085577606815805]"
            ]
          },
          "metadata": {
            "tags": []
          },
          "execution_count": 9
        }
      ]
    },
    {
      "cell_type": "code",
      "metadata": {
        "id": "4ngATWy8DSm3",
        "colab_type": "code",
        "outputId": "afdba8af-7560-4d4b-e5d0-be4b1e6d8386",
        "colab": {
          "base_uri": "https://localhost:8080/",
          "height": 33
        }
      },
      "source": [
        "########## Check if Linear or Non Linear #################\n",
        "from sklearn.svm import SVR\n",
        "RegressorSVR=SVR()\n",
        "parameters=[{'kernel':['linear','rbf','poly','sigmoid']}]\n",
        "from sklearn.model_selection import GridSearchCV\n",
        "GS=GridSearchCV(estimator=RegressorSVR,param_grid=parameters,scoring='neg_mean_squared_error',cv=9)\n",
        "GS.fit(XTrainViffed,YTrain)\n",
        "best_params=GS.best_params_#linear\n",
        "best_params"
      ],
      "execution_count": 0,
      "outputs": [
        {
          "output_type": "execute_result",
          "data": {
            "text/plain": [
              "{'kernel': 'linear'}"
            ]
          },
          "metadata": {
            "tags": []
          },
          "execution_count": 11
        }
      ]
    },
    {
      "cell_type": "code",
      "metadata": {
        "id": "dtvViQfaDaZT",
        "colab_type": "code",
        "colab": {}
      },
      "source": [
        "######## Check Hyperparameters ###########\n",
        "from sklearn.linear_model import LinearRegression\n",
        "LR=LinearRegression()\n",
        "hyperparameters=[{'fit_intercept':[True,False],\n",
        "                  'normalize':[True,False]}]\n",
        "GS_hyp=GridSearchCV(estimator=LR,param_grid=hyperparameters,scoring='neg_mean_squared_error',cv=9)\n",
        "GS_hyp.fit(XTrainViffed,YTrain)\n",
        "best_hyperparams=GS_hyp.best_params_#'fit_intercept': False, 'normalize': True"
      ],
      "execution_count": 0,
      "outputs": []
    },
    {
      "cell_type": "code",
      "metadata": {
        "id": "rzD_H3QpDiho",
        "colab_type": "code",
        "outputId": "3a5707a2-580d-4b97-9e92-c0eff36a78b7",
        "colab": {
          "base_uri": "https://localhost:8080/",
          "height": 33
        }
      },
      "source": [
        "######## Create Regressor and ApplyKFold ##########\n",
        "from sklearn.model_selection import KFold\n",
        "from sklearn import metrics as mt\n",
        "import statistics as st\n",
        "RegressorLR=LinearRegression(fit_intercept=False,normalize=True)\n",
        "r2=[]\n",
        "kfold=KFold(n_splits=9,shuffle=True)\n",
        "for count in range(0,100):\n",
        "  for train_idx,val_idx in kfold.split(XTrainViffed):\n",
        "    XTrainKF_Train,XTrainKF_Val=XTrainViffed[train_idx],XTrainViffed[val_idx]\n",
        "    YTrainKF_Train,YTrainKF_Val=YTrain[train_idx],YTrain[val_idx]\n",
        "    RegressorLR.fit(XTrainKF_Train,YTrainKF_Train)\n",
        "    YPred=RegressorLR.predict(XTrainKF_Val)\n",
        "    r2.append(mt.r2_score(YTrainKF_Val,YPred))\n",
        "print(\"Goodness Of Fit in Training Set: \"+str(st.mean(r2)))#Goodness Of Fit: 0.9043597819765842"
      ],
      "execution_count": 0,
      "outputs": [
        {
          "output_type": "stream",
          "text": [
            "Goodness Of Fit in Training Set: 0.9027389370382594\n"
          ],
          "name": "stdout"
        }
      ]
    },
    {
      "cell_type": "code",
      "metadata": {
        "id": "oR_MMnubDoS4",
        "colab_type": "code",
        "outputId": "76e3c448-ff28-4063-b7d3-f1631713527e",
        "colab": {
          "base_uri": "https://localhost:8080/",
          "height": 33
        }
      },
      "source": [
        "########## Predict ##################\n",
        "RegressorLR.fit(XTrainViffed,YTrain)\n",
        "YPred=sc_Y.inverse_transform(RegressorLR.predict(XTestViffed))\n",
        "print(\"Goodness Of Fit in Test Set: \"+str(mt.r2_score(sc_Y.inverse_transform(YTest),YPred)))#Goodness Of Fit:0.8784462981958525 "
      ],
      "execution_count": 0,
      "outputs": [
        {
          "output_type": "stream",
          "text": [
            "Goodness Of Fit in Test Set: 0.8784462981958525\n"
          ],
          "name": "stdout"
        }
      ]
    }
  ]
}